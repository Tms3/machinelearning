{
 "cells": [
  {
   "cell_type": "markdown",
   "metadata": {},
   "source": [
    "# Básico sobre os modelos"
   ]
  },
  {
   "cell_type": "code",
   "execution_count": 18,
   "metadata": {},
   "outputs": [],
   "source": [
    "import numpy as np\n",
    "import pandas as pd\n",
    "import matplotlib\n",
    "import pylab\n",
    "import matplotlib.pyplot as plt\n",
    "from scipy import stats\n",
    "from scipy.stats import norm\n",
    "from numpy.random import seed\n",
    "from numpy.random import randn\n",
    "import matplotlib.colors\n",
    "import scipy\n",
    "import sklearn\n",
    "import seaborn as sns\n",
    "import statsmodels.api as sm\n",
    "import random\n",
    "\n",
    "%matplotlib inline"
   ]
  },
  {
   "cell_type": "code",
   "execution_count": 2,
   "metadata": {},
   "outputs": [
    {
     "name": "stdout",
     "output_type": "stream",
     "text": [
      "Python 3.7.7\n"
     ]
    }
   ],
   "source": [
    "!python --version"
   ]
  },
  {
   "cell_type": "code",
   "execution_count": 3,
   "metadata": {},
   "outputs": [
    {
     "name": "stdout",
     "output_type": "stream",
     "text": [
      "numpy: 1.19.0\n",
      "pandas: 1.0.5\n",
      "scipy: 1.5.0\n",
      "matplotlib: 3.2.2\n",
      "sklearn: 0.20.1\n",
      "seaborn: 0.10.1\n",
      "statsmodel: 0.11.0\n",
      "\n",
      "Mais informações:\n",
      "\n",
      "System:\n",
      "    python: 3.7.7 (default, Mar 26 2020, 15:48:22)  [GCC 7.3.0]\n",
      "executable: /opt/conda/bin/python\n",
      "   machine: Linux-5.4.0-39-generic-x86_64-with-debian-buster-sid\n",
      "\n",
      "BLAS:\n",
      "    macros: SCIPY_MKL_H=None, HAVE_CBLAS=None\n",
      "  lib_dirs: /opt/conda/lib\n",
      "cblas_libs: mkl_rt, pthread\n",
      "\n",
      "Python deps:\n",
      "       pip: 20.0.2\n",
      "setuptools: 46.1.3.post20200330\n",
      "   sklearn: 0.20.1\n",
      "     numpy: 1.19.0\n",
      "     scipy: 1.5.0\n",
      "    Cython: 0.29.17\n",
      "    pandas: 1.0.5\n",
      "None\n"
     ]
    }
   ],
   "source": [
    "print('numpy: {}' .format(np.__version__))\n",
    "print('pandas: {}' .format(pd.__version__))\n",
    "print('scipy: {}' .format(scipy.__version__))\n",
    "print('matplotlib: {}' .format(matplotlib.__version__))\n",
    "print('sklearn: {}' .format(sklearn.__version__))\n",
    "print('seaborn: {}' .format(sns.__version__))\n",
    "print('statsmodel: {}' .format(sm.__version__))\n",
    "\n",
    "print('\\nMais informações:')\n",
    "print(sklearn.show_versions())"
   ]
  },
  {
   "cell_type": "code",
   "execution_count": null,
   "metadata": {},
   "outputs": [],
   "source": [
    "# Atualizar a versão de alguma biblioteca\n",
    "!pip install --upgrade statsmodel"
   ]
  },
  {
   "cell_type": "markdown",
   "metadata": {},
   "source": [
    "## Distribuição Gaussiana"
   ]
  },
  {
   "cell_type": "code",
   "execution_count": 14,
   "metadata": {},
   "outputs": [
    {
     "data": {
      "image/png": "[encoded data removed]",
      "text/plain": [
       "<Figure size 432x288 with 1 Axes>"
      ]
     },
     "metadata": {
      "needs_background": "light"
     },
     "output_type": "display_data"
    }
   ],
   "source": [
    "# Gerar um gráfico com uma Gaussiana Ideal\n",
    "xAxis = np.arange(-3, 3, 0.001)\n",
    "yAxis = norm.pdf(xAxis, 0, 1)\n",
    "plt.plot(xAxis, yAxis)\n",
    "plt.show()"
   ]
  },
  {
   "cell_type": "code",
   "execution_count": 13,
   "metadata": {},
   "outputs": [
    {
     "data": {
      "image/png": "[encoded data removed]",
      "text/plain": [
       "<Figure size 432x288 with 1 Axes>"
      ]
     },
     "metadata": {
      "needs_background": "light"
     },
     "output_type": "display_data"
    }
   ],
   "source": [
    "# Gerar uma Gaussina a partir de uma amostra randômica\n",
    "data = 5 * randn(10000) + 50\n",
    "# histograma dos dados\n",
    "plt.hist(data, bins=100)\n",
    "plt.show()"
   ]
  },
  {
   "cell_type": "code",
   "execution_count": 22,
   "metadata": {},
   "outputs": [
    {
     "name": "stdout",
     "output_type": "stream",
     "text": [
      "Média: 49.999\n",
      "Mediana: 50.096\n",
      "Moda: ModeResult(mode=array([31.83606752]), count=array([1]))\n"
     ]
    }
   ],
   "source": [
    "# Calcular as medidas padrões\n",
    "print('Média: %.3f' % np.mean(data))\n",
    "print('Mediana: %.3f' % np.median(data))\n",
    "print('Moda:', stats.mode(data))"
   ]
  },
  {
   "cell_type": "markdown",
   "metadata": {},
   "source": [
    "# Matplotlib"
   ]
  },
  {
   "cell_type": "code",
   "execution_count": null,
   "metadata": {},
   "outputs": [],
   "source": [
    "plt.figure(figsize = [8,7])\n",
    "t = np.arange(0,2*np.pi, 0.1)\n",
    "x = 16*np.sin(t)**3\n",
    "y = 13*np.cos(t)-5*np.cos(2*t)-2*np.cos(3*t)-np.cos(4*t)\n",
    "plt.plot(x,y)\n",
    "plt.title(\"Viva Python\")"
   ]
  },
  {
   "cell_type": "markdown",
   "metadata": {},
   "source": [
    "### Gráficos com 1 figura"
   ]
  },
  {
   "cell_type": "code",
   "execution_count": null,
   "metadata": {},
   "outputs": [],
   "source": [
    "fig = plt.figure()\n",
    "\n",
    "# Definindo os eixos\n",
    "axes = fig.add_axes([0.1, 0.1, 0.8, 0.8])\n",
    "\n",
    "axes.plot(x, y, 'r')\n",
    "\n",
    "axes.set_xlabel('x')\n",
    "axes.set_ylabel('y')\n",
    "axes.set_title('Gráfico de Linha');\n",
    "plt.show()"
   ]
  },
  {
   "cell_type": "markdown",
   "metadata": {},
   "source": [
    "### Gráficos com 2 figuras"
   ]
  },
  {
   "cell_type": "code",
   "execution_count": null,
   "metadata": {},
   "outputs": [],
   "source": [
    "fig = plt.figure()\n",
    "\n",
    "axes1 = fig.add_axes([0.1, 0.1, 0.8, 0.8]) # eixos da figura principal\n",
    "axes2 = fig.add_axes([0.2, 0.5, 0.4, 0.3]) # eixos da figura secundária\n",
    "\n",
    "# Figura principal\n",
    "axes1.plot(x, y, 'r')\n",
    "axes1.set_xlabel('x')\n",
    "axes1.set_ylabel('y')\n",
    "axes1.set_title('Figura Principal')\n",
    "\n",
    "# Figura secundária\n",
    "axes2.plot(y, x, 'g')\n",
    "axes2.set_xlabel('y')\n",
    "axes2.set_ylabel('x')\n",
    "axes2.set_title('Figura Secundária');"
   ]
  },
  {
   "cell_type": "markdown",
   "metadata": {},
   "source": [
    "### Gráficos em Paralelo"
   ]
  },
  {
   "cell_type": "code",
   "execution_count": null,
   "metadata": {},
   "outputs": [],
   "source": [
    "fig, axes = plt.subplots(nrows = 1, ncols = 2)\n",
    "\n",
    "for ax in axes:\n",
    "    ax.plot(x, y, 'r')\n",
    "    ax.set_xlabel('x')\n",
    "    ax.set_ylabel('y')\n",
    "    ax.set_title('Título')\n",
    "    \n",
    "fig.tight_layout()"
   ]
  },
  {
   "cell_type": "markdown",
   "metadata": {},
   "source": [
    "### Em Escala"
   ]
  },
  {
   "cell_type": "code",
   "execution_count": null,
   "metadata": {},
   "outputs": [],
   "source": [
    "fig, axes = plt.subplots(1, 2, figsize=(10,4))\n",
    "      \n",
    "axes[0].plot(x, x**2, x, np.exp(x))\n",
    "axes[0].set_title(\"Escala Padrão\")\n",
    "\n",
    "axes[1].plot(x, x**2, x, np.exp(x))\n",
    "axes[1].set_yscale(\"log\")\n",
    "axes[1].set_title(\"Escala Logaritmica (y)\");"
   ]
  },
  {
   "cell_type": "markdown",
   "metadata": {},
   "source": [
    "## Truques e Dicas"
   ]
  },
  {
   "cell_type": "code",
   "execution_count": null,
   "metadata": {},
   "outputs": [],
   "source": [
    "# Mudar o tamanho\n",
    "fig=plt.figure(figsize=(5,8))\n",
    "\n",
    "X=list(range(10))\n",
    "Y=[x+(x*random.random()) for x in X]\n",
    "\n",
    "plt.plot(X,Y)\n",
    "\n",
    "plt.title('Line Plot')\n",
    "plt.xlabel('x-axis')\n",
    "plt.ylabel('y-axis')\n",
    "\n",
    "plt.show()"
   ]
  },
  {
   "cell_type": "code",
   "execution_count": null,
   "metadata": {},
   "outputs": [],
   "source": [
    "fig=plt.figure(figsize=(8,3))\n",
    "\n",
    "plt.plot(X,Y)\n",
    "\n",
    "plt.title('Line Plot')\n",
    "plt.xlabel('x-axis')\n",
    "plt.ylabel('y-axis')\n",
    "\n",
    "plt.show()"
   ]
  },
  {
   "cell_type": "code",
   "execution_count": null,
   "metadata": {},
   "outputs": [],
   "source": [
    "# Subplots com tamanhos diferentes\n",
    "fig=plt.figure(figsize=(8,8))\n",
    "\n",
    "ax1=plt.subplot2grid((4,4),(0,0),colspan=3)\n",
    "ax1.plot(X,[x+(x*random.random()) for x in X])\n",
    "ax1.set_title('Plot 1 : (0,0)')\n",
    "\n",
    "ax2=plt.subplot2grid((4,4),(0,3))\n",
    "ax2.plot(X,[x-(x*random.random()) for x in X])\n",
    "ax2.set_title('Plot 2 : (0,3)')\n",
    "\n",
    "ax3=plt.subplot2grid((4,4),(1,0),rowspan=3,colspan=3)\n",
    "ax3.plot(X,[x-(x*random.random()) for x in X])\n",
    "ax3.set_title('Plot 3 : (1,0)')\n",
    "\n",
    "ax4=plt.subplot2grid((4,4),(1,3),rowspan=3,colspan=1)\n",
    "ax4.plot(X,[x+(x*random.random()) for x in X])\n",
    "ax4.set_title('Plot 4 : (1,3)')\n",
    "\n",
    "fig.tight_layout()\n",
    "\n",
    "plt.show()"
   ]
  },
  {
   "cell_type": "code",
   "execution_count": null,
   "metadata": {},
   "outputs": [],
   "source": [
    "# Com anotação\n",
    "fig=plt.figure(figsize=(6,6))\n",
    "\n",
    "temp=[ random.uniform(20,40) for i in range(5)]\n",
    "city=['Cid.A','Cid.B','Cid.C','Cid.D','Cid.E']\n",
    "y_pos=list(range(1,6))\n",
    "\n",
    "graph=plt.bar(y_pos, temp,color='violet')\n",
    "\n",
    "plt.xticks(y_pos,city)\n",
    "plt.title('Temperatura Média das Cidades')\n",
    "plt.xlabel('Cidades')\n",
    "plt.ylabel('Temperatura ($^\\circ$C)')\n",
    "\n",
    "for bar,t in zip(graph,temp):\n",
    "    plt.text(bar.get_x() + bar.get_width()/2.0,bar.get_height(),'%.2f $^\\circ$C'%t,ha='center',va='bottom')\n",
    "\n",
    "plt.show()"
   ]
  },
  {
   "cell_type": "code",
   "execution_count": null,
   "metadata": {},
   "outputs": [],
   "source": [
    "fig=plt.figure(figsize=(8,6))\n",
    "\n",
    "plt.plot(X,np.exp(X))\n",
    "\n",
    "plt.title('Anotação Exponencial com plt.annotate()')\n",
    "plt.xlabel('Eixo X')\n",
    "plt.ylabel('Eixo y')\n",
    "\n",
    "# Mudando o limite dos eixos\n",
    "plt.ylim(1,8000)\n",
    "plt.xlim(0,9)\n",
    "\n",
    "# remover os eixos da figura\n",
    "plt.gca().spines['right'].set_visible(False)\n",
    "plt.gca().spines['top'].set_visible(False)\n",
    "\n",
    "# trocar a cor dos eixos\n",
    "plt.gca().spines['left'].set_color('red')\n",
    "plt.gca().spines['bottom'].set_color('red')\n",
    "\n",
    "plt.annotate('Ponto 1',xy=(6,400),arrowprops=dict(arrowstyle='->'),xytext=(4,600))\n",
    "plt.annotate('Ponto 2',xy=(7,1150),arrowprops=dict(arrowstyle='->',connectionstyle='arc3,rad=-.2'),xytext=(4.5,2000))\n",
    "plt.annotate('Ponto 3',xy=(8,3000),arrowprops=dict(arrowstyle='-|>',connectionstyle='angle,angleA=90,angleB=0'),xytext=(8.3,2200))\n",
    "\n",
    "plt.show()"
   ]
  },
  {
   "cell_type": "code",
   "execution_count": null,
   "metadata": {},
   "outputs": [],
   "source": [
    "# Agrupar no Gráfico de Barras\n",
    "temp_summer=[ random.uniform(20,40) for i in range(5)]\n",
    "temp_winter=[ random.uniform(0,10) for i in range(5)]\n",
    "\n",
    "fig=plt.figure(figsize=(10,6))\n",
    "\n",
    "city=['Cid.A','Cid.B','Cid.C','Cid.D','Cid.E']\n",
    "x_pos_summer=list(range(1,6))\n",
    "x_pos_winter=[ i+0.4 for i in x_pos_summer]\n",
    "\n",
    "# Remover os eixos\n",
    "plt.gca().spines['right'].set_visible(False)\n",
    "plt.gca().spines['top'].set_visible(False)\n",
    "\n",
    "graph_summer=plt.bar(x_pos_summer, temp_summer,color='tomato',label='Verão',width=0.4)\n",
    "graph_winter=plt.bar(x_pos_winter, temp_winter,color='dodgerblue',label='Inverno',width=0.4)\n",
    "\n",
    "plt.xticks([i+0.2 for i in x_pos_summer],city)\n",
    "plt.title('Temperatura Média das Cidades')\n",
    "plt.ylabel('Temperatura ($^\\circ$C)')\n",
    "\n",
    "# Rotacionar os labels de X\n",
    "plt.xticks([i+0.2 for i in x_pos_summer],city,fontname='DejaVu Sans',rotation=45,fontsize=14)\n",
    "\n",
    "# Marca D'água\n",
    "fig.text(0.85,0.15, 'Análise Prévia',\n",
    "         fontsize=65, color='gray',\n",
    "         ha='right', va='bottom', alpha=0.4,rotation=25)\n",
    "\n",
    "# Imagem de Marca D'água\n",
    "# import matplotlib.image as img\n",
    "# av_logo = img.imread(fname='logo.png')\n",
    "# fig.figimage(av_logo,100,70,alpha=0.3)\n",
    "\n",
    "# Anotação no Gráfico\n",
    "for summer_bar,winter_bar,ts,tw in zip(graph_summer,graph_winter,temp_summer,temp_winter):\n",
    "    plt.text(summer_bar.get_x() + summer_bar.get_width()/2.0,summer_bar.get_height(),'%.2f$^\\circ$C'%ts,ha='center',va='bottom')\n",
    "    plt.text(winter_bar.get_x() + winter_bar.get_width()/2.0,winter_bar.get_height(),'%.2f$^\\circ$C'%tw,ha='center',va='bottom')\n",
    "    \n",
    "# Modificar a Legenda\n",
    "plt.legend(loc='upper center',ncol=2,frameon=False)     \n",
    "\n",
    "plt.legend()  \n",
    "plt.show()"
   ]
  },
  {
   "cell_type": "markdown",
   "metadata": {},
   "source": [
    "## Bokeh"
   ]
  },
  {
   "cell_type": "code",
   "execution_count": null,
   "metadata": {},
   "outputs": [],
   "source": [
    "from bokeh.plotting import figure\n",
    "from bokeh.io import output_notebook, show\n",
    "\n",
    "products=['computer','mobile','printer']\n",
    "months=['Jan','Feb','Mar']\n",
    "sales={\n",
    "    'products':products,\n",
    "    'Jan':[10,40,5],\n",
    "    'Feb':[8,45,10],\n",
    "    'Mar':[25,60,22]\n",
    "}\n",
    "\n",
    "cols=['red','green','blue']#,'navy', 'cyan']\n",
    "fig=figure(x_range=products, plot_width=300, plot_height=300)\n",
    "fig.vbar_stack(months, x='products', source=sales, color=cols,width=0.5)\n",
    "\n",
    "show(fig)"
   ]
  },
  {
   "cell_type": "code",
   "execution_count": null,
   "metadata": {},
   "outputs": [],
   "source": [
    "from bokeh.models import ColumnDataSource, FactorRange, HoverTool\n",
    "\n",
    "LOCATIONS = ['CPC','OG2','HS82-83','IG6','IG4','IG10']\n",
    "CHECKS = ['AID CHECKS', 'ITEMS SCREENED', 'PERSONS SCREENED']\n",
    "\n",
    "data = {'LOCATIONS' : LOCATIONS,\n",
    "        'AID CHECKS'   : [208,622,140,1842,127,1304],\n",
    "        'PERSONS SCREENED'   : [201,484,126,1073,81,676],\n",
    "        'ITEMS SCREENED' : [28,71,31,394,32,207]}\n",
    "\n",
    "x = [ (location, check) for location in LOCATIONS for check in CHECKS ]\n",
    "counts = sum(zip(data['AID CHECKS'], data['PERSONS SCREENED'], data['ITEMS SCREENED']), ()) # like an hstack\n",
    "\n",
    "print(x)\n",
    "\n",
    "source = ColumnDataSource(data=dict(x=x, counts=counts))\n",
    "\n",
    "p = figure(x_range=FactorRange(*x), plot_height=600, plot_width=990, title=\"NPS Locations by Security Checks\",\n",
    "           tools=\"pan,wheel_zoom,box_zoom,reset, save\")\n",
    "\n",
    "p.xaxis.axis_label_text_font_size = \"5pt\"\n",
    "p.xaxis.axis_label_text_font_style='bold'\n",
    "\n",
    "p.vbar(x='x', top='counts', width=0.9, source=source)\n",
    "\n",
    "p.add_tools(HoverTool(tooltips=[(\"LOCATION\", \"@x\"), (\"TOTAL\", \"@counts\")]))\n",
    "\n",
    "p.y_range.start = 0\n",
    "p.x_range.range_padding = 0.1\n",
    "p.xaxis.major_label_orientation = 1\n",
    "p.xgrid.grid_line_color = None\n",
    "\n",
    "show(p)"
   ]
  },
  {
   "cell_type": "code",
   "execution_count": null,
   "metadata": {},
   "outputs": [],
   "source": [
    "from bokeh.charts import Bar, show\n",
    "from bokeh.models import HoverTool\n",
    "\n",
    "data = {'ID': [0, 1, 2], 'Total': [2, 13, 5], 'Desc': ['a', 'b', 'c']}\n",
    "p = Bar(data, label='ID', values='Total', width=400, tools='hover')\n",
    "hover = p.select(dict(type=HoverTool))\n",
    "hover.tooltips = [('Value of ID',' @ID'),('Value of Desc',' @Desc')]"
   ]
  },
  {
   "cell_type": "code",
   "execution_count": null,
   "metadata": {},
   "outputs": [],
   "source": []
  }
 ],
 "metadata": {
  "kernelspec": {
   "display_name": "Python 3",
   "language": "python",
   "name": "python3"
  },
  "language_info": {
   "codemirror_mode": {
    "name": "ipython",
    "version": 3
   },
   "file_extension": ".py",
   "mimetype": "text/x-python",
   "name": "python",
   "nbconvert_exporter": "python",
   "pygments_lexer": "ipython3",
   "version": "3.7.7"
  }
 },
 "nbformat": 4,
 "nbformat_minor": 4
}
