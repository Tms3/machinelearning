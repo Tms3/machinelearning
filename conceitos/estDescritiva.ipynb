{
 "cells": [
  {
   "cell_type": "markdown",
   "metadata": {},
   "source": [
    "# Estatística Descritiva\n",
    "É uma forma numérica de descrever os dados, dividida em 2 grupos:\n",
    "* Descreve os valores das observações de uma variável, são elas: soma, mediana, média, máximo e mínimo.\n",
    "* Descreve a dispersão de uma variável, são elas: desvio padrão, variância, contagens e quartis.\n",
    "\n",
    "Usada para detecção de outliers, planejar os requisitos de preparação de dados para pré-processamento (como transformações e conversões) e na escolha de variáveis para o uso em Machine Learning.    "
   ]
  },
  {
   "cell_type": "code",
   "execution_count": null,
   "metadata": {},
   "outputs": [],
   "source": [
    "import pandas as pd\n",
    "\n",
    "caminho = 'bases/mtcars.csv'\n",
    "carros = pd.read_csv(caminho)\n",
    "carros.columns = ['nome', 'mpg', 'cil', 'disp', 'hp', 'drat', 'wt', 'qsec', 'vs', 'am', 'gear', 'carb']\n",
    "carros.index = carros.nome\n",
    "carros.head()"
   ]
  },
  {
   "cell_type": "code",
   "execution_count": null,
   "metadata": {},
   "outputs": [],
   "source": [
    "# Somatório\n",
    "carros.sum()"
   ]
  },
  {
   "cell_type": "code",
   "execution_count": null,
   "metadata": {},
   "outputs": [],
   "source": [
    "carros.sum(axis=1)"
   ]
  },
  {
   "cell_type": "code",
   "execution_count": null,
   "metadata": {},
   "outputs": [],
   "source": [
    "# Mediana\n",
    "carros.median()"
   ]
  },
  {
   "cell_type": "code",
   "execution_count": null,
   "metadata": {},
   "outputs": [],
   "source": [
    "# Média Aritmética\n",
    "carros.mean()"
   ]
  },
  {
   "cell_type": "code",
   "execution_count": null,
   "metadata": {},
   "outputs": [],
   "source": [
    "# Máximo\n",
    "carros.max()"
   ]
  },
  {
   "cell_type": "code",
   "execution_count": null,
   "metadata": {},
   "outputs": [],
   "source": [
    "# Para saber qual linha contém o valor máximo do mpg\n",
    "carros['mpg'].idxmax()"
   ]
  },
  {
   "cell_type": "code",
   "execution_count": null,
   "metadata": {},
   "outputs": [],
   "source": [
    "# Mínimo\n",
    "carros.max()"
   ]
  },
  {
   "cell_type": "code",
   "execution_count": null,
   "metadata": {},
   "outputs": [],
   "source": [
    "# Para saber qual linha contém o valor mínimo do mpg\n",
    "carros['mpg'].idxmin()"
   ]
  },
  {
   "cell_type": "markdown",
   "metadata": {},
   "source": [
    "### Dispersão de Variáveis"
   ]
  },
  {
   "cell_type": "code",
   "execution_count": null,
   "metadata": {},
   "outputs": [],
   "source": [
    "# Desvio padrão\n",
    "carros.std()"
   ]
  },
  {
   "cell_type": "code",
   "execution_count": null,
   "metadata": {},
   "outputs": [],
   "source": [
    "# Variância\n",
    "carros.var()"
   ]
  },
  {
   "cell_type": "code",
   "execution_count": null,
   "metadata": {},
   "outputs": [],
   "source": [
    "# Contagem de Valores\n",
    "carros['gear'].value_counts() # Qtd de Marchas"
   ]
  },
  {
   "cell_type": "markdown",
   "metadata": {},
   "source": [
    "### Descritivo Estatístico"
   ]
  },
  {
   "cell_type": "code",
   "execution_count": null,
   "metadata": {},
   "outputs": [],
   "source": [
    "carros.describe()"
   ]
  },
  {
   "cell_type": "markdown",
   "metadata": {},
   "source": [
    "### Variáveis Categóricas\n",
    "Assumem um limite fixo de valores possíveis e cada observação é atribuída a um subgrupo específico. São usadas para realizar uma Tabulação Cruzada (crosstab) que é uma funcionalidade que sumariza e combina 2 ou mais variáveis. Por padrão crosstab mostra a frequência de valores por variável."
   ]
  },
  {
   "cell_type": "code",
   "execution_count": null,
   "metadata": {},
   "outputs": [],
   "source": [
    "# Cilindros, tipo do câmbio manual ou automático, qtd marchas, qtd de carburadores\n",
    "carros_cat = carros[['cil', 'am', 'gear', 'carb']]"
   ]
  },
  {
   "cell_type": "code",
   "execution_count": null,
   "metadata": {},
   "outputs": [],
   "source": [
    "marchas_grupo = carros_cat.groupby('gear')\n",
    "marchas_grupo.describe().T # T transforma as colunas em linhas"
   ]
  },
  {
   "cell_type": "code",
   "execution_count": null,
   "metadata": {},
   "outputs": [],
   "source": [
    "# Transformando variáveis em dados categóricos\n",
    "carros['grupo'] = pd.Series(carros['gear'], dtype='category')\n",
    "carros.dtypes"
   ]
  },
  {
   "cell_type": "code",
   "execution_count": null,
   "metadata": {},
   "outputs": [],
   "source": [
    "carros['grupo'].head()"
   ]
  },
  {
   "cell_type": "code",
   "execution_count": null,
   "metadata": {},
   "outputs": [],
   "source": [
    "# Descrever dados categoricos com Crosstabs\n",
    "pd.crosstab(carros['am'], carros['gear'])"
   ]
  },
  {
   "cell_type": "markdown",
   "metadata": {},
   "source": [
    "### Correlações\n",
    "Correlação não implica em causalidade! Por exemplo existe uma correlação entre o tamanho do supermercado e a taxa de obesidade, quanto maior o tamanho do supermercado maior a taxa de obesidade, uma coisa não implica na outra e é possível quantificar essa correlação usando o Método de Pearson. \n",
    "\n",
    "**Métodos Paramétricos** serve para identificar correlações entre variáveis numéricas linearmente relacionadas. O coeficiente de Pearson pode variar entre:\n",
    "* R = 1, Relação positivamente forte\n",
    "* R = 0, Não linearmente correlacionados\n",
    "* R = -1, Relação negativamente forte\n",
    "\n",
    "Pressupostos que os dados devem seguir para que o método faça sentido são:\n",
    "* Os dados devem possuir uma distribuição normal\n",
    "* Precisam ser contínuas e numéricas\n",
    "* Precisam apresentar uma relação linear"
   ]
  },
  {
   "cell_type": "code",
   "execution_count": null,
   "metadata": {},
   "outputs": [],
   "source": [
    "# Calcular o coeficiente de Pearson\n",
    "from scipy.stats.stats import pearsonr\n",
    "import seaborn as sns\n",
    "\n",
    "%matplotlib inline\n",
    "\n",
    "# Correlação de Pearson\n",
    "X = carros[['mpg', 'hp', 'wt', 'qsec']]\n",
    "sns.pairplot(X) # observar que os dados apresentam distribuição normal"
   ]
  },
  {
   "cell_type": "code",
   "execution_count": null,
   "metadata": {},
   "outputs": [],
   "source": [
    "# Usar o scipy para calcular o coeficiente de Pearson\n",
    "mpg = carros['mpg']\n",
    "hp = carros['hp']\n",
    "qsec = carros['qsec']\n",
    "wt = carros['wt']\n",
    "\n",
    "coef_pearson, p_valor = pearsonr(mpg, hp)\n",
    "print('Coeficiente de Pearson entre MPG e HP {:0.3}'.format(coef_pearson))\n",
    "\n",
    "coef_pearson, p_valor = pearsonr(mpg, wt)\n",
    "print('Coeficiente de Pearson entre MPG e WT {:0.3}'.format(coef_pearson))\n",
    "\n",
    "coef_pearson, p_valor = pearsonr(mpg, qsec)\n",
    "print('Coeficiente de Pearson entre MPG e QSec {:0.3}'.format(coef_pearson))"
   ]
  },
  {
   "cell_type": "code",
   "execution_count": null,
   "metadata": {},
   "outputs": [],
   "source": [
    "# Usar o Pandas para calcular o coeficiente de Pearson\n",
    "corr = X.corr()\n",
    "corr"
   ]
  },
  {
   "cell_type": "code",
   "execution_count": null,
   "metadata": {},
   "outputs": [],
   "source": [
    "# Visualizar o coeficiente de Pearson com Seaborn\n",
    "sns.heatmap(corr, xticklabels=corr.columns.values, yticklabels=corr.columns.values)"
   ]
  },
  {
   "cell_type": "markdown",
   "metadata": {},
   "source": [
    "### Métodos não paramétricos\n",
    "Encontrar correlação entre dados categóricos relacionados não linearmente, utilizamos para isso o método de Spearman e Tabela Qui-quadrado. **Spearman** usa pares de variáveis com dados ordinais. Pares podem ser ordenados de acordo com a força de correlação entre eles (a tabela é exatamente igual a de Pearson). **Qui-quadrado** é usado para teste de independência das variáveis, a hipótese nula é que de fato as variáveis são independentes, os possíveis valores são:\n",
    "* p < 0.05 - Rejeitamos a hipótese nula e concluímos que as variáveis são correlacionadas\n",
    "* p > 0.05 - Aceitamos a hipótese nula e concluímos que as variáveis são independentes"
   ]
  },
  {
   "cell_type": "code",
   "execution_count": null,
   "metadata": {},
   "outputs": [],
   "source": [
    "from scipy.stats import spearmanr\n",
    "from scipy.stats import chi2_contingency"
   ]
  },
  {
   "cell_type": "code",
   "execution_count": null,
   "metadata": {},
   "outputs": [],
   "source": [
    "# Correlação de Spearman\n",
    "# qtd cilíndros, formato do motor, tipo do câmbio e qtd marchas\n",
    "X = carros[['cil', 'vs', 'am', 'gear']]\n",
    "sns.pairplot(X) # observar que os dados não apresentam distribuição normal"
   ]
  },
  {
   "cell_type": "code",
   "execution_count": null,
   "metadata": {},
   "outputs": [],
   "source": [
    "cil = carros['cil']\n",
    "vs = carros['vs']\n",
    "am = carros['am']\n",
    "gear = carros['gear']\n",
    "\n",
    "coef_spearman, p_valor = spearmanr(cil, vs)\n",
    "print('Coeficiente de Spearman entre Cil e VS {:0.3}'.format(coef_spearman))\n",
    "\n",
    "coef_spearman, p_valor = spearmanr(cil, am)\n",
    "print('Coeficiente de Spearman entre Cil e AM {:0.3}'.format(coef_spearman))\n",
    "\n",
    "coef_spearman, p_valor = spearmanr(cil, gear)\n",
    "print('Coeficiente de Spearman entre Cil e GEAR {:0.3}'.format(coef_spearman))\n"
   ]
  },
  {
   "cell_type": "code",
   "execution_count": null,
   "metadata": {},
   "outputs": [],
   "source": [
    "# Qui-quadrado\n",
    "tab = pd.crosstab(cil, vs)\n",
    "chi2, p, dof, exp = chi2_contingency(tab.values)\n",
    "print('Qui-quadrado entre Cil e VS {:0.3} e p-valor {:0.3}'.format(chi2, p))\n",
    "\n",
    "tab = pd.crosstab(cil, am)\n",
    "chi2, p, dof, exp = chi2_contingency(tab.values)\n",
    "print('Qui-quadrado entre Cil e AM {:0.3} e p-valor {:0.3}'.format(chi2, p))\n",
    "\n",
    "\n",
    "tab = pd.crosstab(cil, gear)\n",
    "chi2, p, dof, exp = chi2_contingency(tab.values)\n",
    "print('Qui-quadrado entre Cil e GEAR {:0.3} e p-valor {:0.3}'.format(chi2, p))"
   ]
  },
  {
   "cell_type": "markdown",
   "metadata": {},
   "source": [
    "### Colocar dados em escala\n",
    "Usado para prevenir grandezas diferentes entre as variáveis que produzam estatísticas erradas ou que induzam ao erro ou para preparar os dados para ML. Existem duas maneira para isso:\n",
    "* Normalização - colocar cada observação numa escala relativa entre 0 e 1.\n",
    "* Padronização - ajustar os dados para que tenham média zero e variância igual a 1."
   ]
  },
  {
   "cell_type": "code",
   "execution_count": null,
   "metadata": {},
   "outputs": [],
   "source": [
    "from matplotlib import pyplot as plt\n",
    "\n",
    "# Pré-processamento com Scikit-Learn\n",
    "from sklearn import preprocessing"
   ]
  },
  {
   "cell_type": "code",
   "execution_count": null,
   "metadata": {},
   "outputs": [],
   "source": [
    "# Vejamos a variância dessa variável\n",
    "plt.plot(mpg)"
   ]
  },
  {
   "cell_type": "code",
   "execution_count": null,
   "metadata": {},
   "outputs": [],
   "source": [
    "# Normalização\n",
    "mpg_mat = mpg.values.reshape(-1, 1) # -1 todas as linhas\n",
    "scaler = preprocessing.MinMaxScaler()\n",
    "scaled_mpg = scaler.fit_transform(mpg_mat)\n",
    "plt.plot(scaled_mpg) # observar o eixo Y"
   ]
  },
  {
   "cell_type": "code",
   "execution_count": null,
   "metadata": {},
   "outputs": [],
   "source": [
    "scaler = preprocessing.MinMaxScaler(feature_range=(0,10))\n",
    "scaled_mpg = scaler.fit_transform(mpg_mat)\n",
    "plt.plot(scaled_mpg) # observar o eixo Y"
   ]
  },
  {
   "cell_type": "code",
   "execution_count": null,
   "metadata": {},
   "outputs": [],
   "source": [
    "# Padronização\n",
    "mpg_nao_padronizado = preprocessing.scale(mpg, axis=0, with_mean=False, with_std=False)\n",
    "plt.plot(mpg_nao_padronizado)"
   ]
  },
  {
   "cell_type": "code",
   "execution_count": null,
   "metadata": {},
   "outputs": [],
   "source": [
    "mpg_padronizado = preprocessing.scale(mpg)\n",
    "plt.plot(mpg_padronizado)"
   ]
  },
  {
   "cell_type": "code",
   "execution_count": null,
   "metadata": {},
   "outputs": [],
   "source": []
  }
 ],
 "metadata": {
  "kernelspec": {
   "display_name": "Python 3",
   "language": "python",
   "name": "python3"
  },
  "language_info": {
   "codemirror_mode": {
    "name": "ipython",
    "version": 3
   },
   "file_extension": ".py",
   "mimetype": "text/x-python",
   "name": "python",
   "nbconvert_exporter": "python",
   "pygments_lexer": "ipython3",
   "version": "3.7.7"
  }
 },
 "nbformat": 4,
 "nbformat_minor": 4
}
